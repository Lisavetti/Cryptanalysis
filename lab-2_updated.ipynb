{
 "cells": [
  {
   "cell_type": "code",
   "execution_count": 20,
   "metadata": {},
   "outputs": [],
   "source": [
    "\n",
    "from sage.crypto.boolean_function import BooleanFunction\n",
    "import numpy as np\n",
    "from multiprocess import Pool\n"
   ]
  },
  {
   "cell_type": "code",
   "execution_count": 21,
   "metadata": {},
   "outputs": [
    {
     "name": "stdout",
     "output_type": "stream",
     "text": [
      "Defining x0, x1, x2, x3, x4, x5\n"
     ]
    }
   ],
   "source": [
    "n = 6\n",
    "\n",
    "B = BooleanPolynomialRing(n, 'x', order = 'lex')\n",
    "B.inject_variables()\n"
   ]
  },
  {
   "cell_type": "code",
   "execution_count": 22,
   "metadata": {},
   "outputs": [
    {
     "data": {
      "text/plain": [
       "x0*x3*x5 + x1*x3*x5 + x1*x5 + x2*x3*x5 + x3*x4*x5 + x3*x5 + x3 + x4*x5"
      ]
     },
     "execution_count": 22,
     "metadata": {},
     "output_type": "execute_result"
    }
   ],
   "source": [
    "with open('/Users/lizaveta_yemets/Desktop/V3_combfunc.txt') as combining_function_file:\n",
    "\tcombining_function_string = combining_function_file\\\n",
    "\t\t.read()\\\n",
    "\t\t.replace('_{', '')\\\n",
    "\t\t.replace('} x', ' * x')\\\n",
    "\t\t.replace('} +', ' +')\n",
    "\n",
    "\tcombining_function = eval(combining_function_string)\n",
    "\n",
    "combining_function\n"
   ]
  },
  {
   "cell_type": "code",
   "execution_count": 23,
   "metadata": {},
   "outputs": [
    {
     "data": {
      "text/plain": [
       "[1, 0, 1, 1, 0, 1, 0, 0, 1, 1]"
      ]
     },
     "execution_count": 23,
     "metadata": {},
     "output_type": "execute_result"
    }
   ],
   "source": [
    "with open('/Users/lizaveta_yemets/Desktop/V3_gamma.txt') as validated_gamma_file:\n",
    "\tvalidated_gamma = validated_gamma_file.read()\n",
    "\tvalidated_gamma = [int(bit) for bit in validated_gamma]\n",
    "\n",
    "validated_gamma[:10]\n"
   ]
  },
  {
   "cell_type": "code",
   "execution_count": 24,
   "metadata": {},
   "outputs": [
    {
     "data": {
      "text/plain": [
       "[576, 516, 864, 706, 610, 786]"
      ]
     },
     "execution_count": 24,
     "metadata": {},
     "output_type": "execute_result"
    }
   ],
   "source": [
    "def poly_to_int(poly):\n",
    "    # Получаем список коэффициентов многочлена, исключая константный член\n",
    "    coefficients = poly.list()[:-1]\n",
    "\n",
    "    # Преобразуем каждый коэффициент в строку и объединяем их\n",
    "    binary_string = ''.join([str(coef) for coef in coefficients])\n",
    "\n",
    "    # Преобразуем двоичную строку в целое число с базой 2\n",
    "    integer_value = int(binary_string, 2)\n",
    "\n",
    "    return integer_value\n",
    "\n",
    "polynomials = [\n",
    "\tx^10 + x^3 + 1,\n",
    "\tx^10 + x^7 + 1,\n",
    "\tx^10 + x^4 + x^3 + x + 1,\n",
    "\tx^10 + x^8 + x^3 + x^2 + 1,\n",
    "\tx^10 + x^8 + x^4 + x^3 + 1,\n",
    "\tx^10 + x^8 + x^5 + x + 1,\n",
    "]\n",
    "# Создание полиномов для аффинных функций\n",
    "polynomials_int = [poly_to_int(poly) for poly in polynomials]\n",
    "\n",
    "polynomials_int"
   ]
  },
  {
   "cell_type": "code",
   "execution_count": 25,
   "metadata": {},
   "outputs": [
    {
     "name": "stdout",
     "output_type": "stream",
     "text": [
      "[0, 0, 0, 0, 0, 16, 0, 0, 32, 0, 0, 0, 0, -16, 0, 0, 0, 0, 16, 0, 0, 0, 0, 0, 0, 0, 16, 0, 0, 0, 0, 0, 0, 0, 0, 0, 0, -16, 0, 0, 32, 0, 0, 0, 0, 16, 0, 0, 0, 0, -16, 0, 0, 0, 0, 0, 0, 0, -16, 0, 0, 0, 0, 0]\n"
     ]
    }
   ],
   "source": [
    "walsh_spectrum = list(BooleanFunction(combining_function).walsh_hadamard_transform())\n",
    "\n",
    "print(walsh_spectrum)"
   ]
  },
  {
   "cell_type": "code",
   "execution_count": 26,
   "metadata": {},
   "outputs": [
    {
     "data": {
      "text/plain": [
       "['x5',\n",
       " 'x4',\n",
       " 'x4 + x5',\n",
       " 'x3',\n",
       " 'x3 + x5',\n",
       " 'x3 + x4',\n",
       " 'x3 + x4 + x5',\n",
       " 'x2',\n",
       " 'x2 + x5',\n",
       " 'x2 + x4',\n",
       " 'x2 + x4 + x5',\n",
       " 'x2 + x3',\n",
       " 'x2 + x3 + x5 + 1',\n",
       " 'x2 + x3 + x4',\n",
       " 'x2 + x3 + x4 + x5',\n",
       " 'x1',\n",
       " 'x1 + x5',\n",
       " 'x1 + x4',\n",
       " 'x1 + x4 + x5',\n",
       " 'x1 + x3',\n",
       " 'x1 + x3 + x5',\n",
       " 'x1 + x3 + x4',\n",
       " 'x1 + x3 + x4 + x5',\n",
       " 'x1 + x2',\n",
       " 'x1 + x2 + x5',\n",
       " 'x1 + x2 + x4',\n",
       " 'x1 + x2 + x4 + x5',\n",
       " 'x1 + x2 + x3',\n",
       " 'x1 + x2 + x3 + x5',\n",
       " 'x1 + x2 + x3 + x4',\n",
       " 'x1 + x2 + x3 + x4 + x5',\n",
       " 'x0',\n",
       " 'x0 + x5',\n",
       " 'x0 + x4',\n",
       " 'x0 + x4 + x5',\n",
       " 'x0 + x3',\n",
       " 'x0 + x3 + x5 + 1',\n",
       " 'x0 + x3 + x4',\n",
       " 'x0 + x3 + x4 + x5',\n",
       " 'x0 + x2',\n",
       " 'x0 + x2 + x5',\n",
       " 'x0 + x2 + x4',\n",
       " 'x0 + x2 + x4 + x5',\n",
       " 'x0 + x2 + x3',\n",
       " 'x0 + x2 + x3 + x5',\n",
       " 'x0 + x2 + x3 + x4',\n",
       " 'x0 + x2 + x3 + x4 + x5',\n",
       " 'x0 + x1',\n",
       " 'x0 + x1 + x5',\n",
       " 'x0 + x1 + x4 + 1',\n",
       " 'x0 + x1 + x4 + x5',\n",
       " 'x0 + x1 + x3',\n",
       " 'x0 + x1 + x3 + x5',\n",
       " 'x0 + x1 + x3 + x4',\n",
       " 'x0 + x1 + x3 + x4 + x5',\n",
       " 'x0 + x1 + x2',\n",
       " 'x0 + x1 + x2 + x5',\n",
       " 'x0 + x1 + x2 + x4 + 1',\n",
       " 'x0 + x1 + x2 + x4 + x5',\n",
       " 'x0 + x1 + x2 + x3',\n",
       " 'x0 + x1 + x2 + x3 + x5',\n",
       " 'x0 + x1 + x2 + x3 + x4',\n",
       " 'x0 + x1 + x2 + x3 + x4 + x5']"
      ]
     },
     "execution_count": 26,
     "metadata": {},
     "output_type": "execute_result"
    }
   ],
   "source": [
    "# Допоміжна функція для перетворення індексу в двійкове представлення\n",
    "def int_to_binary(n, length=6):\n",
    "    return [int(x) for x in bin(n)[2:].zfill(length)]\n",
    "\n",
    "# Допоміжна функція для визначення знака числа\n",
    "def sign(num):\n",
    "    return -1 if num < 0 else 1\n",
    "\n",
    "# Змінні для зберігання спектру Уолша\n",
    "stringified_expressions = []\n",
    "expressions = {}\n",
    "expressions_with_walsh = {}\n",
    "\n",
    "# Генерація аналогів на основі спектру Уолша\n",
    "for index in range(len(walsh_spectrum)):\n",
    "    coefficient = walsh_spectrum[index]\n",
    "    analog_terms = []\n",
    "\n",
    "    # Отримуємо двійкове представлення індексу\n",
    "    index_binary = int_to_binary(index)\n",
    "\n",
    "    # Додаємо змінні відповідно до двійкового індексу\n",
    "    for i, binary_digit in enumerate(index_binary):\n",
    "        if binary_digit == 1:\n",
    "            analog_terms.append(f'x{i}')\n",
    "\n",
    "    # Додаємо константу '1' при негативному коефіцієнті\n",
    "    if sign(coefficient) == -1:\n",
    "        analog_terms.append('1')\n",
    "\n",
    "    # Об'єднуємо терміни в рядок і додаємо до списку аналогів\n",
    "    if len(analog_terms) > 0:\n",
    "        stringified_expression = ' + '.join(analog_terms)\n",
    "\n",
    "        stringified_expressions.append(stringified_expression)\n",
    "        expressions[stringified_expression] = BooleanFunction(eval(stringified_expression))\n",
    "        expressions_with_walsh[stringified_expression] = coefficient\n",
    "\n",
    "# Результат: список виразів\n",
    "stringified_expressions\n"
   ]
  },
  {
   "cell_type": "code",
   "execution_count": 27,
   "metadata": {},
   "outputs": [
    {
     "name": "stdout",
     "output_type": "stream",
     "text": [
      "Ймовірності аналогів:\n",
      "x3: 0.75\n",
      "x3 + x5: 0.75\n",
      "x1 + x4: 0.62\n",
      "x1 + x3 + x4: 0.62\n",
      "x0 + x2: 0.62\n",
      "x0 + x2 + x3 + x5: 0.62\n",
      "x5: 0.50\n",
      "x4: 0.50\n",
      "x4 + x5: 0.50\n",
      "x3 + x4: 0.50\n",
      "x3 + x4 + x5: 0.50\n",
      "x2: 0.50\n",
      "x2 + x5: 0.50\n",
      "x2 + x4: 0.50\n",
      "x2 + x4 + x5: 0.50\n",
      "x2 + x3: 0.50\n",
      "x2 + x3 + x5 + 1: 0.50\n",
      "x2 + x3 + x4: 0.50\n",
      "x2 + x3 + x4 + x5: 0.50\n",
      "x1: 0.50\n",
      "x1 + x5: 0.50\n",
      "x1 + x3: 0.50\n",
      "x1 + x3 + x5: 0.50\n",
      "x1 + x2: 0.50\n",
      "x1 + x2 + x5: 0.50\n",
      "x1 + x2 + x4: 0.50\n",
      "x1 + x2 + x4 + x5: 0.50\n",
      "x1 + x2 + x3: 0.50\n",
      "x1 + x2 + x3 + x5: 0.50\n",
      "x1 + x2 + x3 + x4: 0.50\n",
      "x1 + x2 + x3 + x4 + x5: 0.50\n",
      "x0: 0.50\n",
      "x0 + x5: 0.50\n",
      "x0 + x4: 0.50\n",
      "x0 + x4 + x5: 0.50\n",
      "x0 + x3: 0.50\n",
      "x0 + x3 + x5 + 1: 0.50\n",
      "x0 + x3 + x4: 0.50\n",
      "x0 + x3 + x4 + x5: 0.50\n",
      "x0 + x2 + x4: 0.50\n",
      "x0 + x2 + x4 + x5: 0.50\n",
      "x0 + x2 + x3 + x4: 0.50\n",
      "x0 + x2 + x3 + x4 + x5: 0.50\n",
      "x0 + x1: 0.50\n",
      "x0 + x1 + x5: 0.50\n",
      "x0 + x1 + x4 + 1: 0.50\n",
      "x0 + x1 + x4 + x5: 0.50\n",
      "x0 + x1 + x3: 0.50\n",
      "x0 + x1 + x3 + x5: 0.50\n",
      "x0 + x1 + x3 + x4: 0.50\n",
      "x0 + x1 + x3 + x4 + x5: 0.50\n",
      "x0 + x1 + x2: 0.50\n",
      "x0 + x1 + x2 + x5: 0.50\n",
      "x0 + x1 + x2 + x4 + 1: 0.50\n",
      "x0 + x1 + x2 + x4 + x5: 0.50\n",
      "x0 + x1 + x2 + x3: 0.50\n",
      "x0 + x1 + x2 + x3 + x5: 0.50\n",
      "x0 + x1 + x2 + x3 + x4: 0.50\n",
      "x0 + x1 + x2 + x3 + x4 + x5: 0.50\n",
      "x1 + x4 + x5: 0.38\n",
      "x1 + x3 + x4 + x5: 0.38\n",
      "x0 + x2 + x5: 0.38\n",
      "x0 + x2 + x3: 0.38\n"
     ]
    }
   ],
   "source": [
    "boolean_combining_function = BooleanFunction(combining_function)\n",
    "\n",
    "# Ініціалізація ймовірностей для кожного аналогового виразу\n",
    "probabilities = dict(zip(stringified_expressions, np.zeros(len(stringified_expressions))))\n",
    "\n",
    "num_states = 1 << n\n",
    "\n",
    "\n",
    "# Обчислення ймовірності для кожного аналогового виразу\n",
    "for stringified_expression in stringified_expressions:\n",
    "    analog_function = expressions[stringified_expression]\n",
    "    for state in range(num_states):\n",
    "        if boolean_combining_function(state) == analog_function(state):\n",
    "            probabilities[stringified_expression] += 1\n",
    "\n",
    "# Перетворення значень у ймовірності\n",
    "for expression in probabilities.keys():\n",
    "    probabilities[expression] /= num_states\n",
    "\n",
    "# Сортування за ймовірностями\n",
    "sorted_probabilities = dict(sorted(probabilities.items(), key=lambda x: x[1], reverse=True))\n",
    "\n",
    "# Виведення результату\n",
    "print(\"Ймовірності аналогів:\")\n",
    "for expression, probability in sorted_probabilities.items():\n",
    "    print(f\"{expression}: {probability:.2f}\")\n",
    "\n"
   ]
  },
  {
   "cell_type": "code",
   "execution_count": 28,
   "metadata": {},
   "outputs": [
    {
     "data": {
      "text/plain": [
       "['x3',\n",
       " 'x3 + x5',\n",
       " 'x1 + x4',\n",
       " 'x1 + x3 + x4',\n",
       " 'x0 + x2',\n",
       " 'x0 + x2 + x3 + x5',\n",
       " 'x5',\n",
       " 'x4',\n",
       " 'x4 + x5',\n",
       " 'x3 + x4']"
      ]
     },
     "execution_count": 28,
     "metadata": {},
     "output_type": "execute_result"
    }
   ],
   "source": [
    "# Отримання найкращих виразів за ймовірністю\n",
    "top_expressions = list(sorted_probabilities.keys())[:10]\n",
    "\n",
    "\n",
    "# Збір булевих функцій для найкращих виразів\n",
    "top_candidates = [expressions[stringified_expressions] for stringified_expressions in top_expressions]\n",
    "\n",
    "# Виведення списку найкращих виразів\n",
    "top_expressions"
   ]
  },
  {
   "cell_type": "code",
   "execution_count": 29,
   "metadata": {},
   "outputs": [
    {
     "name": "stdout",
     "output_type": "stream",
     "text": [
      "cor(f) = 0\n"
     ]
    }
   ],
   "source": [
    "# Calculate weights and coefficients for correlation\n",
    "weights = [sum(list(map(int, bin(i)[2:]))) for i in range(2**6)]\n",
    "sorted_weights, sorted_coefs = zip(*sorted(zip(weights, walsh_spectrum)))\n",
    "\n",
    "# Find and print the correlation\n",
    "for i in range(2**6):\n",
    "    if sorted_coefs[i] != 0:\n",
    "        print('cor(f) =', sorted_weights[i] - 1)\n",
    "        break"
   ]
  },
  {
   "cell_type": "code",
   "execution_count": 31,
   "metadata": {},
   "outputs": [
    {
     "name": "stderr",
     "output_type": "stream",
     "text": [
      "ld: warning: passed two min versions (11.0, 11.0) for platform macOS. Using 11.0.\n",
      "ld: warning: passed two min versions (11.0, 11.0) for platform macOS. Using 11.0.\n"
     ]
    }
   ],
   "source": [
    "%%cython\n",
    "\n",
    "from libc.stdlib cimport malloc, free\n",
    "cdef int LENGTH = 10\n",
    "\n",
    "def generate_sequence(int poly, int init_state, int nbits):\n",
    "\tcdef int curr_state = init_state, s, i, j\n",
    "\tcdef int* res_array = <int*>malloc(sizeof(int)*nbits)\n",
    "\n",
    "\ttry:\n",
    "\t\tfor i in range(nbits):\n",
    "\t\t\tres_array[i] = (curr_state >> (LENGTH - 1)) & 1\n",
    "\t\t\ts = 0\n",
    "\t\t\t\n",
    "\t\t\tfor j in range(LENGTH):\n",
    "\t\t\t\ts = s ^ (((curr_state & poly) >> j) & 1)\n",
    "\t\t\t\n",
    "\t\t\tcurr_state = (curr_state << 1) | s\n",
    "\t\t\t\n",
    "\t\treturn [x for x in res_array [:nbits]]\n",
    "\tfinally:\n",
    "\t\tfree(res_array)\n"
   ]
  },
  {
   "cell_type": "code",
   "execution_count": 32,
   "metadata": {},
   "outputs": [],
   "source": [
    "def state_to_int(*bits):\n",
    "\tnumber = 0\n",
    "\n",
    "\tfor index, bit in bits:\n",
    "\t\ttemp = bit << index\n",
    "\n",
    "\t\tnumber |= temp\n",
    "\n",
    "\treturn number\n"
   ]
  },
  {
   "cell_type": "code",
   "execution_count": 33,
   "metadata": {},
   "outputs": [],
   "source": [
    "\n",
    "# Потужність для повного перебору\n",
    "bruteforce_power = 1 << 10\n",
    "\n",
    "# Отримання вектору бітів із заданих пар (індекс, біт)\n",
    "def get_bit_vector(*params, length=6):\n",
    "    vector = [0] * length\n",
    "    for index, bit in params:\n",
    "        vector[index] = bit\n",
    "    return vector\n",
    "\n",
    "# Обчислення значення T для заданого коефіцієнта k\n",
    "def get_T(k):\n",
    "    return int(8 * 0.5**-2 * np.log(2**(10 * k) * 100))\n",
    "\n",
    "# Отримання кількості відмінностей між двома бітовими послідовностями\n",
    "def get_bit_difference(first_sequence, second_sequence):\n",
    "    return sum(a != b for a, b in zip(first_sequence, second_sequence))\n",
    "\n",
    "# Сортування словника за значеннями\n",
    "def get_sorted_dict(dictionary):\n",
    "    return sorted(dictionary.items(), key=lambda x: x[1])"
   ]
  },
  {
   "cell_type": "code",
   "execution_count": 34,
   "metadata": {},
   "outputs": [],
   "source": [
    "\n",
    "\n",
    "# Обчислення різниці для одного набору початкових даних\n",
    "def bruteforce_single_variable(init_state, polynomial_index, g_function, sequence_length):\n",
    "    polynomial = polynomials_int[polynomial_index]\n",
    "    generated_sequence = generate_sequence(polynomial, init_state, sequence_length)\n",
    "    test_sequence = [g_function(state_to_int((polynomial_index, bit))) for bit in generated_sequence]\n",
    "\n",
    "    return init_state, get_bit_difference(test_sequence, validated_gamma[:sequence_length])\n",
    "\n",
    "\n"
   ]
  },
  {
   "cell_type": "code",
   "execution_count": 59,
   "metadata": {},
   "outputs": [
    {
     "name": "stdout",
     "output_type": "stream",
     "text": [
      "g_0 = x3\n",
      "\n",
      "T = 369\n",
      "----------\n",
      "Initial State: 595, Hemming Distance: 91\n",
      "Initial State: 195, Hemming Distance: 157\n",
      "Initial State: 717, Hemming Distance: 157\n",
      "Initial State: 710, Hemming Distance: 158\n",
      "Initial State: 37, Hemming Distance: 160\n",
      "Initial State: 947, Hemming Distance: 160\n",
      "Initial State: 977, Hemming Distance: 160\n",
      "Initial State: 703, Hemming Distance: 161\n",
      "Initial State: 454, Hemming Distance: 162\n",
      "Initial State: 742, Hemming Distance: 162\n",
      "CPU times: user 14 ms, sys: 51.3 ms, total: 65.3 ms\n",
      "Wall time: 143 ms\n"
     ]
    }
   ],
   "source": [
    "%%time\n",
    "\n",
    "g_0 = top_candidates[0]\n",
    "T_0 = get_T(1)\n",
    "\n",
    "print(f'g_0 = {top_expressions[0]}')\n",
    "print(f'')\n",
    "print(f'T = {T_0}')\n",
    "print(f'----------')\n",
    "\n",
    "\n",
    "with Pool() as pool:\n",
    "\tdifferences_0 = dict(\n",
    "\t\tpool.map(\n",
    "\t\t\tlambda init_state: bruteforce_single_variable(init_state, 3, g_0, T_0),\n",
    "\t\t\trange(bruteforce_power)\n",
    "\t\t)\n",
    "\t)\n",
    "\n",
    "\n",
    "sorted_differences = get_sorted_dict(differences_0)[:10]\n",
    "for initial_state, hemming_distance in sorted_differences:\n",
    "    print(f\"Initial State: {initial_state}, Hemming Distance: {hemming_distance}\")\n"
   ]
  },
  {
   "cell_type": "code",
   "execution_count": 41,
   "metadata": {},
   "outputs": [],
   "source": [
    "value_3 = 595"
   ]
  },
  {
   "cell_type": "code",
   "execution_count": 42,
   "metadata": {},
   "outputs": [],
   "source": [
    "\n",
    "# Функція брутфорсу для однієї змінної з врахуванням заданої послідовності\n",
    "def bruteforce_one_variable_custom(init_state, second_polynomial_index, g_function, sequence_length, first_polynomial_data):\n",
    "    first_polynomial_index, first_sequence = first_polynomial_data\n",
    "    second_polynomial = polynomials_int[second_polynomial_index]\n",
    "    second_sequence = generate_sequence(second_polynomial, init_state, sequence_length)\n",
    "\n",
    "    # Створення тестової послідовності\n",
    "    test_sequence = [\n",
    "        g_function(state_to_int((first_polynomial_index, first_sequence[i]), (second_polynomial_index, second_sequence[i])))\n",
    "        for i in range(sequence_length)\n",
    "    ]\n",
    "\n",
    "    # Повертає початковий стан та відмінність Геммінга між тестовою та валідаційною послідовностями\n",
    "    return init_state, get_bit_difference(test_sequence, validated_gamma[:sequence_length])\n",
    "\n"
   ]
  },
  {
   "cell_type": "code",
   "execution_count": 44,
   "metadata": {},
   "outputs": [
    {
     "name": "stdout",
     "output_type": "stream",
     "text": [
      "g_1 = x3 + x5\n",
      "\n",
      "T = 590\n",
      "----------\n",
      "Initial State: 0, Hemming Distance: 148\n",
      "Initial State: 680, Hemming Distance: 149\n",
      "Initial State: 82, Hemming Distance: 269\n",
      "Initial State: 145, Hemming Distance: 269\n",
      "Initial State: 528, Hemming Distance: 269\n",
      "Initial State: 603, Hemming Distance: 269\n",
      "Initial State: 949, Hemming Distance: 269\n",
      "Initial State: 727, Hemming Distance: 270\n",
      "Initial State: 902, Hemming Distance: 270\n",
      "Initial State: 909, Hemming Distance: 270\n",
      "CPU times: user 18.9 ms, sys: 43.1 ms, total: 62 ms\n",
      "Wall time: 200 ms\n"
     ]
    }
   ],
   "source": [
    "%%time\n",
    "\n",
    "g_1 = top_candidates[1]\n",
    "T_1 = get_T(2)\n",
    "\n",
    "print(f'g_1 = {top_expressions[1]}')\n",
    "print(f'')\n",
    "print(f'T = {T_1}')\n",
    "print(f'----------')\n",
    "\n",
    "sequence_poly_3 = generate_sequence(polynomials_int[3], value_3, T_1)\n",
    "\n",
    "with Pool() as pool:\n",
    "\tdifferences_1 = dict(\n",
    "\t\tpool.map(\n",
    "\t\t\tlambda init_state: bruteforce_one_variable_custom(init_state, 5, g_1, T_1, (3, sequence_poly_3)),\n",
    "\t\t\trange(bruteforce_power)\n",
    "\t\t)\n",
    "\t)\n",
    "\n",
    "\n",
    "sorted_differences = get_sorted_dict(differences_1)[:10]\n",
    "for initial_state, hemming_distance in sorted_differences:\n",
    "    print(f\"Initial State: {initial_state}, Hemming Distance: {hemming_distance}\")\n"
   ]
  },
  {
   "cell_type": "code",
   "execution_count": 45,
   "metadata": {},
   "outputs": [],
   "source": [
    "value_5 = 680"
   ]
  },
  {
   "cell_type": "code",
   "execution_count": 46,
   "metadata": {},
   "outputs": [],
   "source": [
    "# Обчислення різниці для двох змінних з врахуванням заданих поліномів\n",
    "def brutforce_for_two_variable(init_state_1, polynomials_indexes, g, T):\n",
    "\tpoly_index_1, poly_index_2 = polynomials_indexes\n",
    "\n",
    "\tdifferences = []\n",
    "     # Генерація першої послідовності\n",
    "\tsequence_1 = generate_sequence(polynomials_int[poly_index_1], init_state_1, T)\n",
    "    # Перебір другого початкового стану\n",
    "\tfor init_state_2 in range(bruteforce_power):\n",
    "\t\tsequence_2 = generate_sequence(polynomials_int[poly_index_2], init_state_2, T)\n",
    "         # Створення тестової послідовності\n",
    "\t\ttest_sequence = [\n",
    "\t\t\tg(state_to_int((poly_index_1, sequence_1[i]), (poly_index_2, sequence_2[i]))) \n",
    "\t\t\tfor i in range(T)\n",
    "\t\t]\n",
    "\n",
    "\t\tdifferences.append(((init_state_1, init_state_2), get_bit_difference(test_sequence, validated_gamma[:T])))\n",
    "\n",
    "\treturn differences\n",
    "\n"
   ]
  },
  {
   "cell_type": "code",
   "execution_count": 51,
   "metadata": {},
   "outputs": [
    {
     "name": "stdout",
     "output_type": "stream",
     "text": [
      "g_2 = x0 + x2\n",
      "\n",
      "T = 812\n",
      "----------\n",
      "Initial State: (498, 1004), Hemming Distance: 292\n",
      "Initial State: (883, 642), Hemming Distance: 334\n",
      "Initial State: (888, 178), Hemming Distance: 336\n",
      "Initial State: (538, 159), Hemming Distance: 339\n",
      "Initial State: (535, 684), Hemming Distance: 341\n",
      "Initial State: (808, 299), Hemming Distance: 341\n",
      "Initial State: (989, 413), Hemming Distance: 342\n",
      "Initial State: (623, 878), Hemming Distance: 343\n",
      "Initial State: (836, 943), Hemming Distance: 343\n",
      "Initial State: (892, 437), Hemming Distance: 343\n",
      "CPU times: user 884 ms, sys: 284 ms, total: 1.17 s\n",
      "Wall time: 2min 44s\n"
     ]
    }
   ],
   "source": [
    "%%time\n",
    "\n",
    "g_2 = top_candidates[4]\n",
    "T_2 = get_T(3)\n",
    "\n",
    "print(f'g_2 = {top_expressions[4]}')\n",
    "print(f'')\n",
    "print(f'T = {T_2}')\n",
    "print(f'----------')\n",
    "\n",
    "with Pool() as pool:\n",
    "\tdifferences_2 = list(\n",
    "\t\tpool.map(\n",
    "\t\t\tlambda init_state_1: brutforce_for_two_variable(init_state_1, (0, 2), g_2, T_2),\n",
    "\t\t\trange(bruteforce_power)\n",
    "\t\t)\n",
    "\t)\n",
    "\n",
    "\tdifferences_2 = dict([difference for sublist in differences_2 for difference in sublist])\n",
    "\n",
    "sorted_differences = get_sorted_dict(differences_2)[:10]\n",
    "for initial_state, hemming_distance in sorted_differences:\n",
    "    print(f\"Initial State: {initial_state}, Hemming Distance: {hemming_distance}\")\n",
    "\n"
   ]
  },
  {
   "cell_type": "code",
   "execution_count": 52,
   "metadata": {},
   "outputs": [],
   "source": [
    "value_0 = 498\n",
    "value_2 = 1004"
   ]
  },
  {
   "cell_type": "code",
   "execution_count": 54,
   "metadata": {},
   "outputs": [
    {
     "name": "stdout",
     "output_type": "stream",
     "text": [
      "g_3 = x1 + x4\n",
      "\n",
      "T = 812\n",
      "----------\n",
      "Initial State: (882, 224), Hemming Distance: 295\n",
      "Initial State: (71, 208), Hemming Distance: 341\n",
      "Initial State: (112, 811), Hemming Distance: 341\n",
      "Initial State: (0, 638), Hemming Distance: 342\n",
      "Initial State: (953, 377), Hemming Distance: 342\n",
      "Initial State: (200, 383), Hemming Distance: 343\n",
      "Initial State: (363, 752), Hemming Distance: 343\n",
      "Initial State: (417, 792), Hemming Distance: 343\n",
      "Initial State: (960, 561), Hemming Distance: 343\n",
      "Initial State: (143, 338), Hemming Distance: 345\n",
      "CPU times: user 957 ms, sys: 385 ms, total: 1.34 s\n",
      "Wall time: 3min 16s\n"
     ]
    }
   ],
   "source": [
    "%%time\n",
    "\n",
    "g_3 = top_candidates[2]\n",
    "T_3 = get_T(3)\n",
    "\n",
    "print(f'g_3 = {top_expressions[2]}')\n",
    "print(f'')\n",
    "print(f'T = {T_3}')\n",
    "print(f'----------')\n",
    "\n",
    "with Pool() as pool:\n",
    "\tdifferences_3 = list(\n",
    "\t\tpool.map(\n",
    "\t\t\tlambda init_state_1: brutforce_for_two_variable(init_state_1, (1, 4), g_3, T_3),\n",
    "\t\t\trange(bruteforce_power)\n",
    "\t\t)\n",
    "\t)\n",
    "\n",
    "\tdifferences_3 = dict([difference for sublist in differences_3 for difference in sublist])\n",
    "\n",
    "sorted_differences = get_sorted_dict(differences_3)[:10]\n",
    "for initial_state, hemming_distance in sorted_differences:\n",
    "    print(f\"Initial State: {initial_state}, Hemming Distance: {hemming_distance}\")\n"
   ]
  },
  {
   "cell_type": "code",
   "execution_count": 55,
   "metadata": {},
   "outputs": [],
   "source": [
    "value_1 = 882\n",
    "value_4 = 224"
   ]
  },
  {
   "cell_type": "code",
   "execution_count": 57,
   "metadata": {},
   "outputs": [
    {
     "name": "stdout",
     "output_type": "stream",
     "text": [
      "[1, 0, 1, 1, 0, 1, 0, 0, 1, 1, 1, 0, 0, 0, 1]\n",
      "[1, 0, 1, 1, 0, 1, 0, 0, 1, 1, 1, 0, 0, 0, 1]\n",
      "0\n"
     ]
    }
   ],
   "source": [
    "l = 50000\n",
    "\n",
    "# Generate sequences\n",
    "sequences = [generate_sequence(polynomials_int[i], value, l) for i, value in enumerate([value_0, value_1, value_2, value_3, value_4, value_5])]\n",
    "\n",
    "# Generate the combined sequence using boolean_combining_function\n",
    "sequence = [\n",
    "    int(boolean_combining_function(state_to_int(\n",
    "        (0, sequences[0][i]), \n",
    "        (1, sequences[1][i]), \n",
    "        (2, sequences[2][i]), \n",
    "        (3, sequences[3][i]), \n",
    "        (4, sequences[4][i]), \n",
    "        (5, sequences[5][i])\n",
    "    )))\n",
    "    for i in range(l)\n",
    "]\n",
    "\n",
    "# Print the first 15 elements of the sequence and validated_gamma\n",
    "print(sequence[:15])\n",
    "print(validated_gamma[:15])\n",
    "\n",
    "# Calculate and print the bit difference\n",
    "bit_difference = get_bit_difference(sequence, validated_gamma[:l])\n",
    "print(bit_difference)\n"
   ]
  },
  {
   "cell_type": "code",
   "execution_count": null,
   "metadata": {},
   "outputs": [],
   "source": []
  }
 ],
 "metadata": {
  "kernelspec": {
   "display_name": "SageMath 10.3",
   "language": "sage",
   "name": "sagemath"
  },
  "language_info": {
   "codemirror_mode": {
    "name": "ipython",
    "version": 3
   },
   "file_extension": ".py",
   "mimetype": "text/x-python",
   "name": "python",
   "nbconvert_exporter": "python",
   "pygments_lexer": "ipython3",
   "version": "3.11.1"
  }
 },
 "nbformat": 4,
 "nbformat_minor": 4
}
